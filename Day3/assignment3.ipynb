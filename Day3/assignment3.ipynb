{
 "cells": [
  {
   "cell_type": "code",
   "execution_count": 1,
   "metadata": {},
   "outputs": [
    {
     "name": "stdout",
     "output_type": "stream",
     "text": [
      "55\n"
     ]
    }
   ],
   "source": [
    "#Assignment 1\n",
    "i=0\n",
    "isum=0\n",
    "while i<=10:\n",
    "    isum=isum+i\n",
    "    i=i+1\n",
    "print(isum)"
   ]
  },
  {
   "cell_type": "code",
   "execution_count": 2,
   "metadata": {},
   "outputs": [
    {
     "name": "stdout",
     "output_type": "stream",
     "text": [
      "Enter a number0\n",
      "Enter any other number than 0 and 1\n"
     ]
    }
   ],
   "source": [
    "#Assignment 2\n",
    "inum=int(input('Enter a number'))\n",
    "if inum==0 or inum==1:\n",
    "    print('Enter any other number than 0 and 1')     \n",
    "else:\n",
    "    for i in range(2,inum):\n",
    "        if inum%i==0:\n",
    "            print(inum, 'is not a prime number')\n",
    "            break\n",
    "    else:\n",
    "        print(inum, 'is a prime number')"
   ]
  }
 ],
 "metadata": {
  "kernelspec": {
   "display_name": "Python 3",
   "language": "python",
   "name": "python3"
  },
  "language_info": {
   "codemirror_mode": {
    "name": "ipython",
    "version": 3
   },
   "file_extension": ".py",
   "mimetype": "text/x-python",
   "name": "python",
   "nbconvert_exporter": "python",
   "pygments_lexer": "ipython3",
   "version": "3.7.6"
  }
 },
 "nbformat": 4,
 "nbformat_minor": 4
}
